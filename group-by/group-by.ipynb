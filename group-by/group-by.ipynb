{
 "cells": [
  {
   "cell_type": "markdown",
   "metadata": {},
   "source": [
    "## Group By"
   ]
  },
  {
   "cell_type": "code",
   "execution_count": 1,
   "metadata": {},
   "outputs": [],
   "source": [
    "\n",
    "const orders = [\n",
    "  { countryCode: `US`, name: `John`, product: `stickers` },\n",
    "  { countryCode: `CA`, name: `Sarah`, product: `shirt` },\n",
    "  { countryCode: `MX`, name: `Carlos`, product: `skateboard` },\n",
    "  { countryCode: `FR`, name: `Marie`, product: `hoodie` },\n",
    "  { countryCode: `JP`, name: `Yuki`, product: `basketball` },\n",
    "  { countryCode: `US`, name: `Emily`, product: `stickers` },\n",
    "  { countryCode: `US`, name: `Scott`, product: `shirt` },\n",
    "  { countryCode: `CA`, name: `David`, product: `shirt` },\n",
    "  { countryCode: `MX`, name: `Juan`, product: `skateboard` },\n",
    "];"
   ]
  },
  {
   "cell_type": "code",
   "execution_count": 3,
   "metadata": {},
   "outputs": [
    {
     "name": "stdout",
     "output_type": "stream",
     "text": [
      "{\n",
      "  US: [\n",
      "    { countryCode: \"US\", name: \"John\", product: \"stickers\" },\n",
      "    { countryCode: \"US\", name: \"Emily\", product: \"stickers\" },\n",
      "    { countryCode: \"US\", name: \"Scott\", product: \"shirt\" }\n",
      "  ],\n",
      "  CA: [\n",
      "    { countryCode: \"CA\", name: \"Sarah\", product: \"shirt\" },\n",
      "    { countryCode: \"CA\", name: \"David\", product: \"shirt\" }\n",
      "  ],\n",
      "  MX: [\n",
      "    { countryCode: \"MX\", name: \"Carlos\", product: \"skateboard\" },\n",
      "    { countryCode: \"MX\", name: \"Juan\", product: \"skateboard\" }\n",
      "  ],\n",
      "  FR: [ { countryCode: \"FR\", name: \"Marie\", product: \"hoodie\" } ],\n",
      "  JP: [ { countryCode: \"JP\", name: \"Yuki\", product: \"basketball\" } ]\n",
      "}\n"
     ]
    }
   ],
   "source": [
    "// Using a reduce 😿😿😿\n",
    "const ordersByCountryR = orders.reduce((acc, order) => {\n",
    "  const { countryCode } = order;\n",
    "  if (!acc[countryCode]) {\n",
    "    acc[countryCode] = [];\n",
    "  }\n",
    "  acc[countryCode].push(order);\n",
    "  return acc;\n",
    "\n",
    "}, {});\n",
    "\n",
    "console.log(ordersByCountryR);"
   ]
  },
  {
   "cell_type": "code",
   "execution_count": 67,
   "metadata": {},
   "outputs": [
    {
     "data": {
      "text/plain": [
       "[Object: null prototype] {\n",
       "  US: [\n",
       "    { countryCode: \u001b[32m\"US\"\u001b[39m, name: \u001b[32m\"John\"\u001b[39m, product: \u001b[32m\"stickers\"\u001b[39m },\n",
       "    { countryCode: \u001b[32m\"US\"\u001b[39m, name: \u001b[32m\"Emily\"\u001b[39m, product: \u001b[32m\"stickers\"\u001b[39m },\n",
       "    { countryCode: \u001b[32m\"US\"\u001b[39m, name: \u001b[32m\"Scott\"\u001b[39m, product: \u001b[32m\"shirt\"\u001b[39m }\n",
       "  ],\n",
       "  CA: [\n",
       "    { countryCode: \u001b[32m\"CA\"\u001b[39m, name: \u001b[32m\"Sarah\"\u001b[39m, product: \u001b[32m\"shirt\"\u001b[39m },\n",
       "    { countryCode: \u001b[32m\"CA\"\u001b[39m, name: \u001b[32m\"David\"\u001b[39m, product: \u001b[32m\"shirt\"\u001b[39m }\n",
       "  ],\n",
       "  MX: [\n",
       "    { countryCode: \u001b[32m\"MX\"\u001b[39m, name: \u001b[32m\"Carlos\"\u001b[39m, product: \u001b[32m\"skateboard\"\u001b[39m },\n",
       "    { countryCode: \u001b[32m\"MX\"\u001b[39m, name: \u001b[32m\"Juan\"\u001b[39m, product: \u001b[32m\"skateboard\"\u001b[39m }\n",
       "  ],\n",
       "  FR: [ { countryCode: \u001b[32m\"FR\"\u001b[39m, name: \u001b[32m\"Marie\"\u001b[39m, product: \u001b[32m\"hoodie\"\u001b[39m } ],\n",
       "  JP: [ { countryCode: \u001b[32m\"JP\"\u001b[39m, name: \u001b[32m\"Yuki\"\u001b[39m, product: \u001b[32m\"basketball\"\u001b[39m } ]\n",
       "}"
      ]
     },
     "metadata": {},
     "output_type": "display_data"
    },
    {
     "data": {
      "text/plain": [
       "Promise { \u001b[90mundefined\u001b[39m }"
      ]
     },
     "execution_count": 67,
     "metadata": {},
     "output_type": "execute_result"
    }
   ],
   "source": [
    "// Group by country code\n",
    "const ordersByCountry = Object.groupBy(orders, (order) =>\n",
    "  order.countryCode\n",
    ");\n",
    "\n",
    "console.log(ordersByCountry);"
   ]
  },
  {
   "cell_type": "code",
   "execution_count": 68,
   "metadata": {},
   "outputs": [
    {
     "data": {
      "text/plain": [
       "[\n",
       "  { countryCode: \u001b[32m\"CA\"\u001b[39m, name: \u001b[32m\"Sarah\"\u001b[39m, product: \u001b[32m\"shirt\"\u001b[39m },\n",
       "  { countryCode: \u001b[32m\"US\"\u001b[39m, name: \u001b[32m\"Scott\"\u001b[39m, product: \u001b[32m\"shirt\"\u001b[39m },\n",
       "  { countryCode: \u001b[32m\"CA\"\u001b[39m, name: \u001b[32m\"David\"\u001b[39m, product: \u001b[32m\"shirt\"\u001b[39m }\n",
       "]"
      ]
     },
     "metadata": {},
     "output_type": "display_data"
    },
    {
     "data": {
      "text/plain": [
       "Promise { \u001b[90mundefined\u001b[39m }"
      ]
     },
     "execution_count": 68,
     "metadata": {},
     "output_type": "execute_result"
    }
   ],
   "source": [
    "// Easy Filter for two items\n",
    "const { shirt, stickers } = Object.groupBy(orders, (order) =>\n",
    "   order.product\n",
    ");\n",
    "console.log(shirt);"
   ]
  },
  {
   "cell_type": "code",
   "execution_count": 69,
   "metadata": {},
   "outputs": [
    {
     "data": {
      "text/plain": [
       "Map(3) {\n",
       "  { topic: \u001b[32m\"Topic 1\"\u001b[39m, start: \u001b[33m0\u001b[39m } => [\n",
       "    { text: \u001b[32m\"Hello Welcome to the show\"\u001b[39m, start: \u001b[33m0\u001b[39m, end: \u001b[33m3\u001b[39m },\n",
       "    { text: \u001b[32m\"JavaScript popular for web dev\"\u001b[39m, start: \u001b[33m4\u001b[39m, end: \u001b[33m7\u001b[39m },\n",
       "    { text: \u001b[32m\"Variables declared with var, let\"\u001b[39m, start: \u001b[33m8\u001b[39m, end: \u001b[33m11\u001b[39m }\n",
       "  ],\n",
       "  { topic: \u001b[32m\"Topic 2\"\u001b[39m, start: \u001b[33m12\u001b[39m } => [\n",
       "    { text: \u001b[32m\"Prototype inheritance in JavaScript\"\u001b[39m, start: \u001b[33m12\u001b[39m, end: \u001b[33m15\u001b[39m },\n",
       "    { text: \u001b[32m\"DOM API manipulates HTML\"\u001b[39m, start: \u001b[33m16\u001b[39m, end: \u001b[33m19\u001b[39m },\n",
       "    { text: \u001b[32m\"Callbacks used for async code\"\u001b[39m, start: \u001b[33m20\u001b[39m, end: \u001b[33m23\u001b[39m }\n",
       "  ],\n",
       "  { topic: \u001b[32m\"Topic 3\"\u001b[39m, start: \u001b[33m24\u001b[39m } => [\n",
       "    { text: \u001b[32m\"Runs client-side and server-side\"\u001b[39m, start: \u001b[33m24\u001b[39m, end: \u001b[33m27\u001b[39m },\n",
       "    { text: \u001b[32m\"React and Vue popular frameworks\"\u001b[39m, start: \u001b[33m28\u001b[39m, end: \u001b[33m31\u001b[39m },\n",
       "    {\n",
       "      text: \u001b[32m\"Node.js runs JavaScript outside browser\"\u001b[39m,\n",
       "      start: \u001b[33m32\u001b[39m,\n",
       "      end: \u001b[33m35\u001b[39m\n",
       "    },\n",
       "    { text: \u001b[32m\"ECMAScript is the language spec\"\u001b[39m, start: \u001b[33m36\u001b[39m, end: \u001b[33m39\u001b[39m }\n",
       "  ]\n",
       "}"
      ]
     },
     "metadata": {},
     "output_type": "display_data"
    },
    {
     "data": {
      "text/plain": [
       "Promise { \u001b[90mundefined\u001b[39m }"
      ]
     },
     "execution_count": 69,
     "metadata": {},
     "output_type": "execute_result"
    }
   ],
   "source": [
    "// Map Group BY\n",
    "const utterances = [\n",
    "  { text: `Hello Welcome to the show`, start: 0, end: 3 },\n",
    "  { text: `JavaScript popular for web dev`, start: 4, end: 7 },\n",
    "  { text: `Variables declared with var, let`, start: 8, end: 11 },\n",
    "  { text: `Prototype inheritance in JavaScript`, start: 12, end: 15 },\n",
    "  { text: `DOM API manipulates HTML`, start: 16, end: 19 },\n",
    "  { text: `Callbacks used for async code`, start: 20, end: 23 },\n",
    "  { text: `Runs client-side and server-side`, start: 24, end: 27 },\n",
    "  { text: `React and Vue popular frameworks`, start: 28, end: 31 },\n",
    "  { text: `Node.js runs JavaScript outside browser`, start: 32, end: 35 },\n",
    "  { text: `ECMAScript is the language spec`, start: 36, end: 39 },\n",
    "];\n",
    "\n",
    "const topics = [\n",
    "  { topic: `Topic 1`, start: 0 },\n",
    "  { topic: `Topic 2`, start: 12 },\n",
    "  { topic: `Topic 3`, start: 24 },\n",
    "];\n",
    "\n",
    "const groupedTopics = Map.groupBy(utterances, (utterance) =>\n",
    "  // Find the topic this one fits into\n",
    "  topics.find((topic, i) => {\n",
    "    const { start } = topic;\n",
    "    const end = topics.at(i + 1)?.start ?? Infinity;\n",
    "    return utterance.start >= start && utterance.end <= end;\n",
    "  })\n",
    ");\n",
    "\n",
    "console.log(groupedTopics);"
   ]
  }
 ],
 "metadata": {
  "kernelspec": {
   "display_name": "Deno",
   "language": "typescript",
   "name": "deno"
  },
  "language_info": {
   "codemirror_mode": "typescript",
   "file_extension": ".ts",
   "mimetype": "text/x.typescript",
   "name": "typescript",
   "nbconvert_exporter": "script",
   "pygments_lexer": "typescript",
   "version": "5.6.2"
  }
 },
 "nbformat": 4,
 "nbformat_minor": 2
}
